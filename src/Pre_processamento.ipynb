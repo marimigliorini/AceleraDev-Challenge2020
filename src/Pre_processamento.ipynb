{
 "cells": [
  {
   "cell_type": "markdown",
   "metadata": {},
   "source": [
    "## Starting the AceleraDev Challenge 2020"
   ]
  },
  {
   "cell_type": "code",
   "execution_count": 1,
   "metadata": {},
   "outputs": [],
   "source": [
    "import pandas as pd\n",
    "import numpy as np"
   ]
  },
  {
   "cell_type": "code",
   "execution_count": 2,
   "metadata": {},
   "outputs": [],
   "source": [
    "def preprocessamento(caminho_arq,porc,fillna_param):\n",
    "    EM=pd.read_csv(caminho_arq,index_col=0)\n",
    "    missing=((EM.isna().sum()/EM.shape[0]*100))\n",
    "    types=EM.dtypes\n",
    "    columns=EM.columns\n",
    "    tent=pd.DataFrame({'column':columns,'missing':missing,'type':types})\n",
    "    tent2=tent.loc[tent['missing'] < porc ]\n",
    "    global EMS\n",
    "    if fillna_param == 0:\n",
    "         EMS= EM[tent2.column].fillna(0).select_dtypes(include=['float64','int64'])\n",
    "    elif fillna_param == 'media':\n",
    "        E= EM[tent2.column].select_dtypes(include=['float64','int64'])\n",
    "        media=E.mean()\n",
    "        EMS=E.fillna(media)\n",
    "    elif fillna_param == 'mediana':\n",
    "        E= EM[tent2.column].select_dtypes(include=['float64','int64'])\n",
    "        mediana=E.median()\n",
    "        EMS=E.fillna(mediana)\n",
    "    return EMS    "
   ]
  }
 ],
 "metadata": {
  "kernelspec": {
   "display_name": "Python 3",
   "language": "python",
   "name": "python3"
  },
  "language_info": {
   "codemirror_mode": {
    "name": "ipython",
    "version": 3
   },
   "file_extension": ".py",
   "mimetype": "text/x-python",
   "name": "python",
   "nbconvert_exporter": "python",
   "pygments_lexer": "ipython3",
   "version": "3.7.6"
  }
 },
 "nbformat": 4,
 "nbformat_minor": 4
}
